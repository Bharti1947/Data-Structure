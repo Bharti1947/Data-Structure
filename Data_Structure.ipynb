{
  "nbformat": 4,
  "nbformat_minor": 0,
  "metadata": {
    "colab": {
      "provenance": []
    },
    "kernelspec": {
      "name": "python3",
      "display_name": "Python 3"
    },
    "language_info": {
      "name": "python"
    }
  },
  "cells": [
    {
      "cell_type": "code",
      "execution_count": null,
      "metadata": {
        "id": "j_O_rwcVuO0u"
      },
      "outputs": [],
      "source": [
        "#Question1.Discuss string slicing and provide examples.\n",
        "# Answer1.String slicing means to extract substring or part of string from string.\n",
        "# Syntax:- String[start:end:step]\n",
        "# Start- Index at which slice begins.\n",
        "# End - Index at which slice ends. It exlude the last index value.\n",
        "# Step - It determines the step size."
      ]
    },
    {
      "cell_type": "code",
      "source": [
        "a = \"Data Analyst\"\n",
        "a[0:5]"
      ],
      "metadata": {
        "colab": {
          "base_uri": "https://localhost:8080/",
          "height": 55
        },
        "id": "_dsbQBZavkc9",
        "outputId": "849cbf9f-9c4c-4d2d-927b-075904aff936"
      },
      "execution_count": 67,
      "outputs": [
        {
          "output_type": "execute_result",
          "data": {
            "text/plain": [
              "'Data '"
            ],
            "application/vnd.google.colaboratory.intrinsic+json": {
              "type": "string"
            }
          },
          "metadata": {},
          "execution_count": 67
        }
      ]
    },
    {
      "cell_type": "code",
      "source": [
        "b = \"I am studying Python\"\n",
        "b[0:15:2]"
      ],
      "metadata": {
        "colab": {
          "base_uri": "https://localhost:8080/",
          "height": 55
        },
        "id": "uEaUBGcQvxYG",
        "outputId": "341e4daf-2cac-4ebf-ba8d-4e4fa2d27b66"
      },
      "execution_count": 68,
      "outputs": [
        {
          "output_type": "execute_result",
          "data": {
            "text/plain": [
              "'Ia tdigP'"
            ],
            "application/vnd.google.colaboratory.intrinsic+json": {
              "type": "string"
            }
          },
          "metadata": {},
          "execution_count": 68
        }
      ]
    },
    {
      "cell_type": "code",
      "source": [
        "b[::-1]"
      ],
      "metadata": {
        "colab": {
          "base_uri": "https://localhost:8080/",
          "height": 55
        },
        "id": "br1jWZ7JwGzc",
        "outputId": "71edb1db-44e3-4b78-8e43-e659c08a6bdb"
      },
      "execution_count": 69,
      "outputs": [
        {
          "output_type": "execute_result",
          "data": {
            "text/plain": [
              "'nohtyP gniyduts ma I'"
            ],
            "application/vnd.google.colaboratory.intrinsic+json": {
              "type": "string"
            }
          },
          "metadata": {},
          "execution_count": 69
        }
      ]
    },
    {
      "cell_type": "code",
      "source": [
        "c = \"How are you\"\n",
        "c[-3:]"
      ],
      "metadata": {
        "colab": {
          "base_uri": "https://localhost:8080/",
          "height": 55
        },
        "id": "K_UaaD_YwT27",
        "outputId": "6c9b5d09-3d18-4f94-c397-700f92a1bcaf"
      },
      "execution_count": 70,
      "outputs": [
        {
          "output_type": "execute_result",
          "data": {
            "text/plain": [
              "'you'"
            ],
            "application/vnd.google.colaboratory.intrinsic+json": {
              "type": "string"
            }
          },
          "metadata": {},
          "execution_count": 70
        }
      ]
    },
    {
      "cell_type": "code",
      "source": [
        "# Question2. Explain the key features of lists in python?\n",
        "# Answer 2. List is an ordered collection of elements.\n",
        "# List is mutable, it means we can change the elements of list after the list has been created.\n",
        "# List can store heterogeneous data.\n",
        "# List supports slicing, means we can extract some part of list.\n"
      ],
      "metadata": {
        "id": "Iv7bUZsHxRqj"
      },
      "execution_count": null,
      "outputs": []
    },
    {
      "cell_type": "code",
      "source": [
        "l = [\"English\",\"Hindi\", True, False, None, 5, 2+3j, 3.5]\n",
        "l"
      ],
      "metadata": {
        "colab": {
          "base_uri": "https://localhost:8080/"
        },
        "id": "dgCxTCCjGT61",
        "outputId": "3160ee56-3ed5-4e38-fe26-f9166f5b314e"
      },
      "execution_count": 71,
      "outputs": [
        {
          "output_type": "execute_result",
          "data": {
            "text/plain": [
              "['English', 'Hindi', True, False, None, 5, (2+3j), 3.5]"
            ]
          },
          "metadata": {},
          "execution_count": 71
        }
      ]
    },
    {
      "cell_type": "code",
      "source": [
        "l[0:5]"
      ],
      "metadata": {
        "colab": {
          "base_uri": "https://localhost:8080/"
        },
        "id": "GD_leVxpGwyQ",
        "outputId": "0117713d-834f-4ebb-f5c1-c1d523c3027f"
      },
      "execution_count": 72,
      "outputs": [
        {
          "output_type": "execute_result",
          "data": {
            "text/plain": [
              "['English', 'Hindi', True, False, None]"
            ]
          },
          "metadata": {},
          "execution_count": 72
        }
      ]
    },
    {
      "cell_type": "code",
      "source": [
        "l[1] = \"Mathematics\"\n",
        "l"
      ],
      "metadata": {
        "colab": {
          "base_uri": "https://localhost:8080/"
        },
        "id": "W1Jv2-nGG5bo",
        "outputId": "aa865c72-4e46-4722-f930-261939273613"
      },
      "execution_count": 73,
      "outputs": [
        {
          "output_type": "execute_result",
          "data": {
            "text/plain": [
              "['English', 'Mathematics', True, False, None, 5, (2+3j), 3.5]"
            ]
          },
          "metadata": {},
          "execution_count": 73
        }
      ]
    },
    {
      "cell_type": "code",
      "source": [
        "# Question3. Describe how to access, modify, and delete elements in a list with examples.\n"
      ],
      "metadata": {
        "id": "HGnPiErFHAB4"
      },
      "execution_count": 74,
      "outputs": []
    },
    {
      "cell_type": "code",
      "source": [
        "# Accessing - list can be accessed by using their index.\n",
        "x = [\"Mango\", \"Orange\", \"Banana\", \"Pineapple\", 5, 3.5,\"Red\"]\n",
        "u = x[-1]\n",
        "u"
      ],
      "metadata": {
        "colab": {
          "base_uri": "https://localhost:8080/",
          "height": 55
        },
        "id": "JJNJ0tvWKcJs",
        "outputId": "ae55830b-4691-483b-c283-9325044b7704"
      },
      "execution_count": 75,
      "outputs": [
        {
          "output_type": "execute_result",
          "data": {
            "text/plain": [
              "'Red'"
            ],
            "application/vnd.google.colaboratory.intrinsic+json": {
              "type": "string"
            }
          },
          "metadata": {},
          "execution_count": 75
        }
      ]
    },
    {
      "cell_type": "code",
      "source": [
        "# Modifying - list are mutable, so we can modify element by assigning and adding new value.\n",
        "x[1] = \"Guava\"\n",
        "x"
      ],
      "metadata": {
        "colab": {
          "base_uri": "https://localhost:8080/"
        },
        "id": "G-Uj_lWnKZ2i",
        "outputId": "3360ad13-a8fc-41c0-fc63-1bf15876b5dc"
      },
      "execution_count": 76,
      "outputs": [
        {
          "output_type": "execute_result",
          "data": {
            "text/plain": [
              "['Mango', 'Guava', 'Banana', 'Pineapple', 5, 3.5, 'Red']"
            ]
          },
          "metadata": {},
          "execution_count": 76
        }
      ]
    },
    {
      "cell_type": "code",
      "source": [
        "x.append(\"Grapes\")\n",
        "x"
      ],
      "metadata": {
        "colab": {
          "base_uri": "https://localhost:8080/"
        },
        "id": "vhnXZtbRPBTk",
        "outputId": "02d785b1-b2c6-42fd-ad5a-7ddcc51395fe"
      },
      "execution_count": 77,
      "outputs": [
        {
          "output_type": "execute_result",
          "data": {
            "text/plain": [
              "['Mango', 'Guava', 'Banana', 'Pineapple', 5, 3.5, 'Red', 'Grapes']"
            ]
          },
          "metadata": {},
          "execution_count": 77
        }
      ]
    },
    {
      "cell_type": "code",
      "source": [
        "# Delete - we can delete element by using remove, pop, clear."
      ],
      "metadata": {
        "id": "jycF-zuSPDCS"
      },
      "execution_count": null,
      "outputs": []
    },
    {
      "cell_type": "code",
      "source": [
        "# it delete the given element from list.\n",
        "x.remove(\"Mango\")\n",
        "x"
      ],
      "metadata": {
        "colab": {
          "base_uri": "https://localhost:8080/"
        },
        "id": "iv1sOjPZKNyv",
        "outputId": "6d13cc13-4b60-4aa7-e350-2afce6944b0c"
      },
      "execution_count": 78,
      "outputs": [
        {
          "output_type": "execute_result",
          "data": {
            "text/plain": [
              "['Guava', 'Banana', 'Pineapple', 5, 3.5, 'Red', 'Grapes']"
            ]
          },
          "metadata": {},
          "execution_count": 78
        }
      ]
    },
    {
      "cell_type": "code",
      "source": [
        "# it delete the element of given index.\n",
        "x = [\"Mango\", \"Orange\", \"Banana\", \"Pineapple\", 5, 3.5,\"Red\"]\n",
        "x.pop(2)\n",
        "x"
      ],
      "metadata": {
        "colab": {
          "base_uri": "https://localhost:8080/"
        },
        "id": "G4I3OIvZQeUc",
        "outputId": "5832b9ba-7f36-4c5e-f0f2-c0a4c3994ee2"
      },
      "execution_count": 79,
      "outputs": [
        {
          "output_type": "execute_result",
          "data": {
            "text/plain": [
              "['Mango', 'Orange', 'Pineapple', 5, 3.5, 'Red']"
            ]
          },
          "metadata": {},
          "execution_count": 79
        }
      ]
    },
    {
      "cell_type": "code",
      "source": [
        "# it clear all the element of list.\n",
        "x = [\"Mango\", \"Orange\", \"Banana\", \"Pineapple\", 5, 3.5,\"Red\"]\n",
        "v = x.clear()\n",
        "v"
      ],
      "metadata": {
        "id": "RzsjN9A8Rv0l"
      },
      "execution_count": 80,
      "outputs": []
    },
    {
      "cell_type": "code",
      "source": [
        "# Question4. Compare and contrast tuples and lists with examples.\n"
      ],
      "metadata": {
        "id": "tO-9VnbxS1Ug"
      },
      "execution_count": null,
      "outputs": []
    },
    {
      "cell_type": "code",
      "source": [
        "#Tuples:-\n",
        "# It is immutable.\n",
        "# It is represented by using paraentheses().\n",
        "# It is used for fixed data type.\n",
        "# It is hashable, can be used as dictionary key\n",
        "tup = (5, 2, \"rohan\", \"sohan\", 2.5, True, None)\n",
        "tup\n"
      ],
      "metadata": {
        "id": "hf77qcBsP1r7",
        "colab": {
          "base_uri": "https://localhost:8080/"
        },
        "outputId": "2c83d826-6507-42b2-c4b6-76e87b83cdad"
      },
      "execution_count": 81,
      "outputs": [
        {
          "output_type": "execute_result",
          "data": {
            "text/plain": [
              "(5, 2, 'rohan', 'sohan', 2.5, True, None)"
            ]
          },
          "metadata": {},
          "execution_count": 81
        }
      ]
    },
    {
      "cell_type": "code",
      "source": [
        "t = (tup,100,101)\n",
        "t"
      ],
      "metadata": {
        "colab": {
          "base_uri": "https://localhost:8080/"
        },
        "id": "_YIaXg9gEe1e",
        "outputId": "73fc70de-e6ea-423b-c59e-952049a92f27"
      },
      "execution_count": 82,
      "outputs": [
        {
          "output_type": "execute_result",
          "data": {
            "text/plain": [
              "((5, 2, 'rohan', 'sohan', 2.5, True, None), 100, 101)"
            ]
          },
          "metadata": {},
          "execution_count": 82
        }
      ]
    },
    {
      "cell_type": "code",
      "source": [
        "#List:-\n",
        "# It is mutable.\n",
        "# It is represented by using square bracket[].\n",
        "# It is used for dynamic data type.\n",
        "# It is unhashable, can not be used as dictionary key\n",
        "Lis = [5, 2, \"rohan\", \"sohan\", 2.5, True, None]\n",
        "Lis"
      ],
      "metadata": {
        "id": "xrk8Y03wRk2g",
        "colab": {
          "base_uri": "https://localhost:8080/"
        },
        "outputId": "49c81c17-114d-4053-81d4-d0b1b3310fa1"
      },
      "execution_count": 83,
      "outputs": [
        {
          "output_type": "execute_result",
          "data": {
            "text/plain": [
              "[5, 2, 'rohan', 'sohan', 2.5, True, None]"
            ]
          },
          "metadata": {},
          "execution_count": 83
        }
      ]
    },
    {
      "cell_type": "code",
      "source": [
        "Lis[2] = \"Manish\"\n",
        "Lis"
      ],
      "metadata": {
        "colab": {
          "base_uri": "https://localhost:8080/"
        },
        "id": "Oij6pq2k_mG7",
        "outputId": "368ff694-861e-4d14-fea3-1d6d92fadecf"
      },
      "execution_count": 84,
      "outputs": [
        {
          "output_type": "execute_result",
          "data": {
            "text/plain": [
              "[5, 2, 'Manish', 'sohan', 2.5, True, None]"
            ]
          },
          "metadata": {},
          "execution_count": 84
        }
      ]
    },
    {
      "cell_type": "code",
      "source": [
        "Lis.append(\"Vijay\")\n",
        "Lis"
      ],
      "metadata": {
        "colab": {
          "base_uri": "https://localhost:8080/"
        },
        "id": "J7qmf7xB_0xa",
        "outputId": "ae7bfb86-e2e5-402c-ef23-477945ce6a68"
      },
      "execution_count": 85,
      "outputs": [
        {
          "output_type": "execute_result",
          "data": {
            "text/plain": [
              "[5, 2, 'Manish', 'sohan', 2.5, True, None, 'Vijay']"
            ]
          },
          "metadata": {},
          "execution_count": 85
        }
      ]
    },
    {
      "cell_type": "code",
      "source": [
        "L = [Lis,100,101]\n",
        "L"
      ],
      "metadata": {
        "colab": {
          "base_uri": "https://localhost:8080/"
        },
        "id": "tJB16Bcg_58Z",
        "outputId": "cc0ac0e0-ce7c-4d81-f56b-07367a0e7a51"
      },
      "execution_count": 86,
      "outputs": [
        {
          "output_type": "execute_result",
          "data": {
            "text/plain": [
              "[[5, 2, 'Manish', 'sohan', 2.5, True, None, 'Vijay'], 100, 101]"
            ]
          },
          "metadata": {},
          "execution_count": 86
        }
      ]
    },
    {
      "cell_type": "code",
      "source": [
        "# Question5. Describe the Key features of sets and provide examples of their use.\n",
        "# Answer5. Key features of sets:-\n",
        "# It is unordered collection of elements.\n",
        "# It is unique collection of elements, i.e it removes duplicate elements.\n",
        "# It is mutable.\n",
        "# It supports set operations such as union, intersection, difference and symmetric difference.\n"
      ],
      "metadata": {
        "id": "clULamgM_7Pb"
      },
      "execution_count": null,
      "outputs": []
    },
    {
      "cell_type": "code",
      "source": [
        "# Examples\n",
        "S1 = {\"red\", \"green\",\"Pink\",\"Black\",\"Blue\"}\n",
        "S1.add(\"Yellow\")\n",
        "S1"
      ],
      "metadata": {
        "colab": {
          "base_uri": "https://localhost:8080/"
        },
        "id": "QHw2n89D_2qJ",
        "outputId": "daf6b20d-cb9d-481b-af58-87996b6a4100"
      },
      "execution_count": 87,
      "outputs": [
        {
          "output_type": "execute_result",
          "data": {
            "text/plain": [
              "{'Black', 'Blue', 'Pink', 'Yellow', 'green', 'red'}"
            ]
          },
          "metadata": {},
          "execution_count": 87
        }
      ]
    },
    {
      "cell_type": "code",
      "source": [
        "S1.discard(\"Yellow\")\n",
        "S1"
      ],
      "metadata": {
        "colab": {
          "base_uri": "https://localhost:8080/"
        },
        "id": "pLQO04OqHfiw",
        "outputId": "41ee797d-fb06-49f4-a0f8-383a57e8e1f2"
      },
      "execution_count": 88,
      "outputs": [
        {
          "output_type": "execute_result",
          "data": {
            "text/plain": [
              "{'Black', 'Blue', 'Pink', 'green', 'red'}"
            ]
          },
          "metadata": {},
          "execution_count": 88
        }
      ]
    },
    {
      "cell_type": "code",
      "source": [
        "# set operations\n",
        "S1 = {\"red\", \"green\",\"Pink\",\"Black\",\"Blue\"}\n",
        "S2 = {\"green\", \"Pink\",\"Voilet\", \"Brown\", \"Silver\"}\n",
        "S1|S2\n"
      ],
      "metadata": {
        "colab": {
          "base_uri": "https://localhost:8080/"
        },
        "id": "9Ec2mP-aIdGo",
        "outputId": "8d2457f1-60c5-4f0b-86ad-3f4b68c7088d"
      },
      "execution_count": 89,
      "outputs": [
        {
          "output_type": "execute_result",
          "data": {
            "text/plain": [
              "{'Black', 'Blue', 'Brown', 'Pink', 'Silver', 'Voilet', 'green', 'red'}"
            ]
          },
          "metadata": {},
          "execution_count": 89
        }
      ]
    },
    {
      "cell_type": "code",
      "source": [
        "S1&S2"
      ],
      "metadata": {
        "colab": {
          "base_uri": "https://localhost:8080/"
        },
        "id": "M1k1K0CMJZ6f",
        "outputId": "2ae324a8-6f0f-4307-c64e-c955b19c0375"
      },
      "execution_count": 90,
      "outputs": [
        {
          "output_type": "execute_result",
          "data": {
            "text/plain": [
              "{'Pink', 'green'}"
            ]
          },
          "metadata": {},
          "execution_count": 90
        }
      ]
    },
    {
      "cell_type": "code",
      "source": [
        "S1-S2"
      ],
      "metadata": {
        "colab": {
          "base_uri": "https://localhost:8080/"
        },
        "id": "KZl3w-cJJkz9",
        "outputId": "5452f04d-1450-4545-9e2e-4ea0d550b902"
      },
      "execution_count": 91,
      "outputs": [
        {
          "output_type": "execute_result",
          "data": {
            "text/plain": [
              "{'Black', 'Blue', 'red'}"
            ]
          },
          "metadata": {},
          "execution_count": 91
        }
      ]
    },
    {
      "cell_type": "code",
      "source": [
        "S1^S2"
      ],
      "metadata": {
        "colab": {
          "base_uri": "https://localhost:8080/"
        },
        "id": "DNq-OhAIJngx",
        "outputId": "2a23958a-2f9c-4d07-b01c-89db11f35feb"
      },
      "execution_count": 92,
      "outputs": [
        {
          "output_type": "execute_result",
          "data": {
            "text/plain": [
              "{'Black', 'Blue', 'Brown', 'Silver', 'Voilet', 'red'}"
            ]
          },
          "metadata": {},
          "execution_count": 92
        }
      ]
    },
    {
      "cell_type": "code",
      "source": [
        "# Question6. Discuss the use cases of tuples and sets in Python programming.\n",
        "# Answer6. Use Case of tuples and sets.\n",
        "# Tuple is used for immutable data while set is used for mutable data.\n",
        "# Tuple can be used for duplicate value or repeated value while set is used for unique value.\n",
        "# Tuple is used as a dictionary keys but set is not used.\n",
        "# Tuple does not support mathematical operations while set supports mathematical operations such as union, intersection, difference etc."
      ],
      "metadata": {
        "id": "V5nXBq1WJqVv"
      },
      "execution_count": null,
      "outputs": []
    },
    {
      "cell_type": "code",
      "source": [
        "#Tuple\n",
        "j = (1,2,3,7,9,9,2)\n",
        "j"
      ],
      "metadata": {
        "colab": {
          "base_uri": "https://localhost:8080/"
        },
        "id": "XSMTszEYMPJW",
        "outputId": "1f91a132-fa07-4682-ca34-4ba2fc9115fb"
      },
      "execution_count": 93,
      "outputs": [
        {
          "output_type": "execute_result",
          "data": {
            "text/plain": [
              "(1, 2, 3, 7, 9, 9, 2)"
            ]
          },
          "metadata": {},
          "execution_count": 93
        }
      ]
    },
    {
      "cell_type": "code",
      "source": [
        "# Set\n",
        "K = {1,2,3,7,9,9,2}\n",
        "K"
      ],
      "metadata": {
        "colab": {
          "base_uri": "https://localhost:8080/"
        },
        "id": "_PRaqGteMkDn",
        "outputId": "94865566-9b18-4ec0-f645-af85b9b64357"
      },
      "execution_count": 94,
      "outputs": [
        {
          "output_type": "execute_result",
          "data": {
            "text/plain": [
              "{1, 2, 3, 7, 9}"
            ]
          },
          "metadata": {},
          "execution_count": 94
        }
      ]
    },
    {
      "cell_type": "code",
      "source": [
        "#Question7. Describe how to add, modify, and delete items in a dictionary with examples.\n",
        "# Answer7. Dictionary is a type of data structure which store data in the form of Key value pair.\n",
        "# Example - Resturant menu, phonebook etc."
      ],
      "metadata": {
        "id": "c8LmLlTgMtP-"
      },
      "execution_count": null,
      "outputs": []
    },
    {
      "cell_type": "code",
      "source": [
        "menu = {\"Burger\":50, \"Roll\":80, \"Noddles\":110, \"Pizza\":90}\n",
        "menu\n"
      ],
      "metadata": {
        "colab": {
          "base_uri": "https://localhost:8080/"
        },
        "id": "wICF4jghNraz",
        "outputId": "012b1b26-e700-4b3e-f220-e74494105f0f"
      },
      "execution_count": 95,
      "outputs": [
        {
          "output_type": "execute_result",
          "data": {
            "text/plain": [
              "{'Burger': 50, 'Roll': 80, 'Noddles': 110, 'Pizza': 90}"
            ]
          },
          "metadata": {},
          "execution_count": 95
        }
      ]
    },
    {
      "cell_type": "code",
      "source": [
        "#Add\n",
        "menu[\"Dosa\"] = 120\n",
        "menu"
      ],
      "metadata": {
        "colab": {
          "base_uri": "https://localhost:8080/"
        },
        "id": "OwGR_fVaOJH4",
        "outputId": "e71620ca-624d-406c-a762-068bd93196b7"
      },
      "execution_count": 96,
      "outputs": [
        {
          "output_type": "execute_result",
          "data": {
            "text/plain": [
              "{'Burger': 50, 'Roll': 80, 'Noddles': 110, 'Pizza': 90, 'Dosa': 120}"
            ]
          },
          "metadata": {},
          "execution_count": 96
        }
      ]
    },
    {
      "cell_type": "code",
      "source": [
        "# Modify\n",
        "menu[\"Burger\"] = 65\n",
        "menu"
      ],
      "metadata": {
        "colab": {
          "base_uri": "https://localhost:8080/"
        },
        "id": "8m4x81N6OYYK",
        "outputId": "7bb9bfab-3b6d-4e29-d983-82367cba7691"
      },
      "execution_count": 97,
      "outputs": [
        {
          "output_type": "execute_result",
          "data": {
            "text/plain": [
              "{'Burger': 65, 'Roll': 80, 'Noddles': 110, 'Pizza': 90, 'Dosa': 120}"
            ]
          },
          "metadata": {},
          "execution_count": 97
        }
      ]
    },
    {
      "cell_type": "code",
      "source": [
        "# It Delete given element\n",
        "menu.pop(\"Dosa\")"
      ],
      "metadata": {
        "colab": {
          "base_uri": "https://localhost:8080/"
        },
        "id": "KKfIBZ-SOkFH",
        "outputId": "f239436a-da84-4b0b-ee82-22043bb0458d"
      },
      "execution_count": 98,
      "outputs": [
        {
          "output_type": "execute_result",
          "data": {
            "text/plain": [
              "120"
            ]
          },
          "metadata": {},
          "execution_count": 98
        }
      ]
    },
    {
      "cell_type": "code",
      "source": [
        "menu"
      ],
      "metadata": {
        "colab": {
          "base_uri": "https://localhost:8080/"
        },
        "id": "8T_NbnBROveG",
        "outputId": "8a5a66f3-edb0-45d4-8ebf-2ad3e5f29893"
      },
      "execution_count": 99,
      "outputs": [
        {
          "output_type": "execute_result",
          "data": {
            "text/plain": [
              "{'Burger': 65, 'Roll': 80, 'Noddles': 110, 'Pizza': 90}"
            ]
          },
          "metadata": {},
          "execution_count": 99
        }
      ]
    },
    {
      "cell_type": "code",
      "source": [
        "# It delete all elements\n",
        "o = {\"odd\":7,\"even\":8}\n",
        "o.clear()\n",
        "o"
      ],
      "metadata": {
        "colab": {
          "base_uri": "https://localhost:8080/"
        },
        "id": "Hney3LDsQZB-",
        "outputId": "1ac1f2e2-f218-444c-ea02-c9247969ad02"
      },
      "execution_count": 100,
      "outputs": [
        {
          "output_type": "execute_result",
          "data": {
            "text/plain": [
              "{}"
            ]
          },
          "metadata": {},
          "execution_count": 100
        }
      ]
    },
    {
      "cell_type": "code",
      "source": [
        "# It delete complete dictionary\n",
        "del o"
      ],
      "metadata": {
        "id": "t3KQ1-CGRC9G"
      },
      "execution_count": 101,
      "outputs": []
    },
    {
      "cell_type": "code",
      "source": [
        "#Question8. Discuss the importance of dictionary keys being immutable and provide examples.\n",
        "#Answer8. Dictionary key must be immutable because:\n",
        "#Consistency - The key must always stay same.If it change, python wouldn't know where to find the value.\n",
        "#Efficency - Python uses a hashing sytem. Changing a key would be problem for this system."
      ],
      "metadata": {
        "id": "aII7w1hORn8J"
      },
      "execution_count": null,
      "outputs": []
    },
    {
      "cell_type": "code",
      "source": [
        "Dictionary = {(2,4,6): \"even number\",(1,3,5):\"odd number\"}\n",
        "Dictionary"
      ],
      "metadata": {
        "colab": {
          "base_uri": "https://localhost:8080/"
        },
        "id": "4MtV4VzOWElD",
        "outputId": "f315e115-d79b-4919-93d8-da1c95aa3f82"
      },
      "execution_count": 102,
      "outputs": [
        {
          "output_type": "execute_result",
          "data": {
            "text/plain": [
              "{(2, 4, 6): 'even number', (1, 3, 5): 'odd number'}"
            ]
          },
          "metadata": {},
          "execution_count": 102
        }
      ]
    },
    {
      "cell_type": "code",
      "source": [
        "Dictionary[(1.5,5.7)] = float"
      ],
      "metadata": {
        "id": "JgOFMUIbWh6j"
      },
      "execution_count": 103,
      "outputs": []
    },
    {
      "cell_type": "code",
      "source": [
        "Dictionary"
      ],
      "metadata": {
        "colab": {
          "base_uri": "https://localhost:8080/"
        },
        "id": "KTpfjc4lW5g4",
        "outputId": "b8634454-2d55-4966-a6c0-6dee63bfe1eb"
      },
      "execution_count": 66,
      "outputs": [
        {
          "output_type": "execute_result",
          "data": {
            "text/plain": [
              "{(2, 4, 6): 'even number', (1, 3, 5): 'odd number', (1.5, 5.7): float}"
            ]
          },
          "metadata": {},
          "execution_count": 66
        }
      ]
    },
    {
      "cell_type": "code",
      "source": [],
      "metadata": {
        "id": "J2kSZ1DfW-Uc"
      },
      "execution_count": null,
      "outputs": []
    }
  ]
}